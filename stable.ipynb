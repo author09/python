{
 "cells": [
  {
   "cell_type": "code",
   "execution_count": 1,
   "metadata": {
    "collapsed": true
   },
   "outputs": [],
   "source": [
    "def extract_matches(resDict):\n",
    "    print( {(x,y[0])for x,y in resDict.items() })"
   ]
  },
  {
   "cell_type": "code",
   "execution_count": 2,
   "metadata": {
    "collapsed": true
   },
   "outputs": [],
   "source": [
    "def who_prefer(preference, str1,str2):\n",
    "    return(str1 if ' '.join(preference).find(str1) < ' '.join(preference).find(str2) else str2 )"
   ]
  },
  {
   "cell_type": "code",
   "execution_count": 3,
   "metadata": {
    "collapsed": true
   },
   "outputs": [],
   "source": [
    "def make_match(mDict, wDict, trace=False):\n",
    "    mDict_ = deepcopy(mDict)\n",
    "    unmatched_ = {x for x in mDict_ if mDict_[x][0] == None }\n",
    "    while(unmatched_):\n",
    "        man = unmatched_.pop()\n",
    "        prefWoman = mDict_[man][1].pop(0)\n",
    "        if(prefWoman in [mDict_[x][0] for x in mDict_]):\n",
    "            currPrefMan = ''.join([x for (x,y) in mDict_.items() if (y[0] == prefWoman)])\n",
    "            if(man != who_prefer(wDict[prefWoman][1],man,currPrefMan)):\n",
    "                unmatched_.add(man)\n",
    "                mDict_[man][0] = None\n",
    "            else:\n",
    "                unmatched_.add(currPrefMan)\n",
    "                mDict_[currPrefMan][0] = None\n",
    "                mDict_[man][0] = prefWoman\n",
    "        else:\n",
    "            mDict_[man][0] = prefWoman\n",
    "    extract_matches(mDict_)\n",
    "            \n",
    "    "
   ]
  },
  {
   "cell_type": "code",
   "execution_count": 4,
   "metadata": {
    "collapsed": true
   },
   "outputs": [],
   "source": [
    "def dict_as_str(prefDict, key=None, reverse=False):\n",
    "    return(''.join('\\n').join('{0} -> {1}'.format(key,prefDict[key]) for key in sorted(prefDict )))"
   ]
  },
  {
   "cell_type": "code",
   "execution_count": 5,
   "metadata": {
    "collapsed": true
   },
   "outputs": [],
   "source": [
    "def read_match_preferences(fpointer):\n",
    "    return {y.rstrip('\\n').split(';')[0]:[ None,y.rstrip('\\n').split(';')[1:len(y.rstrip('\\n').split(';'))]] for y in fpointer}\n",
    "    "
   ]
  },
  {
   "cell_type": "code",
   "execution_count": 7,
   "metadata": {},
   "outputs": [
    {
     "name": "stdout",
     "output_type": "stream",
     "text": [
      "Enter a file storing preferences of men:C:\\Users\\shubh\\Desktop\\men0.txt\n",
      "Enter a file storing preferences of women:C:\\Users\\shubh\\Desktop\\women0.txt\n",
      "Men preferences\n",
      "m1 -> [None, ['w3', 'w2', 'w1']]\n",
      "m2 -> [None, ['w3', 'w1', 'w2']]\n",
      "m3 -> [None, ['w2', 'w1', 'w3']]\n",
      "Women preferences\n",
      "w1 -> [None, ['m1', 'm2', 'm3']]\n",
      "w2 -> [None, ['m2', 'm1', 'm3']]\n",
      "w3 -> [None, ['m3', 'm2', 'm1']]\n",
      "trace?No\n",
      "{('m2', 'w3'), ('m3', 'w1'), ('m1', 'w2')}\n"
     ]
    }
   ],
   "source": [
    "from copy import deepcopy\n",
    "if __name__ == '__main__':\n",
    "    mfile = input('Enter a file storing preferences of men:')\n",
    "    wfile = input('Enter a file storing preferences of women:')\n",
    "    mprefDict = read_match_preferences(open(mfile))\n",
    "    print('Men preferences\\n{0}'.format(dict_as_str(mprefDict)))\n",
    "    wprefDict = read_match_preferences(open(wfile))\n",
    "    print('Women preferences\\n{0}'.format(dict_as_str(wprefDict)))\n",
    "    trace = input('trace?')\n",
    "    make_match(mprefDict,wprefDict,trace)"
   ]
  },
  {
   "cell_type": "code",
   "execution_count": null,
   "metadata": {
    "collapsed": true
   },
   "outputs": [],
   "source": []
  }
 ],
 "metadata": {
  "kernelspec": {
   "display_name": "Python (data_science)",
   "language": "python",
   "name": "data_science"
  },
  "language_info": {
   "codemirror_mode": {
    "name": "ipython",
    "version": 3
   },
   "file_extension": ".py",
   "mimetype": "text/x-python",
   "name": "python",
   "nbconvert_exporter": "python",
   "pygments_lexer": "ipython3",
   "version": "3.6.2"
  }
 },
 "nbformat": 4,
 "nbformat_minor": 2
}
