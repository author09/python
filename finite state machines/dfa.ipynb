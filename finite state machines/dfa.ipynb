{
 "cells": [
  {
   "cell_type": "code",
   "execution_count": 1,
   "metadata": {
    "collapsed": true
   },
   "outputs": [],
   "source": [
    "def interpret(out_list):\n",
    "    print(out_list[1:-1])\n",
    "    return(('Start state = {0}\\n'.format(out_list[0]) +\n",
    "          ''.join('\\n').join('Input = {0}; New State = {1}'.format(x[0],x[1]) for x in out_list[1:])\n",
    "          + ''.join('\\nStop state: {0}\\n'.format(out_list[-1][1]))\n",
    "           ) if (out_list[-1][1] != 'Illegal input') \n",
    "           else ('Start state = {0}\\n'.format(out_list[0]) \n",
    "           +''.join('\\n').join('Input = {0}; New State = {1}'.format(x[0],x[1]) for x in out_list[1:-1])\n",
    "           +''.join('\\nInput = {0}; New State = Illegal state terminating or whatever'.format(out_list[-1][0]))                                                \n",
    "          + ''.join('\\nStop state: None\\n')\n",
    "           )\n",
    "          )"
   ]
  },
  {
   "cell_type": "code",
   "execution_count": 2,
   "metadata": {
    "collapsed": true
   },
   "outputs": [],
   "source": [
    "def process(faDict, startState, inputList):\n",
    "    out_list = [startState]\n",
    "    for input_ in inputList:\n",
    "        if(input_ not in faDict[startState]):\n",
    "            out_list.append((tuple((input_,'Illegal input'))))\n",
    "            print(out_list)\n",
    "            return interpret(out_list)\n",
    "        out_list.append(tuple((input_,faDict[startState][input_])))\n",
    "        startState = faDict[startState][input_]\n",
    "    #out_list.append(out_list[-1][1])\n",
    "    print(out_list)\n",
    "    return(interpret(out_list))\n",
    "    "
   ]
  },
  {
   "cell_type": "code",
   "execution_count": 3,
   "metadata": {
    "collapsed": true
   },
   "outputs": [],
   "source": [
    "def fa_as_str(faDict):\n",
    "    return(''.join('\\n').join('{0} transitions: {1}'.format(key,sorted([(k,v) for k,v in faDict[key].items()]))\n",
    "                                                           for key in sorted(faDict)))"
   ]
  },
  {
   "cell_type": "code",
   "execution_count": 4,
   "metadata": {
    "collapsed": true
   },
   "outputs": [],
   "source": [
    "def read_fa(fpointer):\n",
    "    return{line.rstrip('\\n').split(';')[0]:\n",
    "          dict(zip(line.rstrip('\\n').split(';')[1::2],line.rstrip('\\n').split(';')[2::2]))\n",
    "          for line in fpointer if(line.rstrip('\\n'))}"
   ]
  },
  {
   "cell_type": "code",
   "execution_count": 6,
   "metadata": {},
   "outputs": [
    {
     "name": "stdout",
     "output_type": "stream",
     "text": [
      "Enter the FA file:C:\\Users\\shubh\\Desktop\\state_transition.txt\n",
      "{'even': {'0': 'even', '1': 'odd'}, 'odd': {'0': 'odd', '1': 'even'}}\n",
      "even transitions: [('0', 'even'), ('1', 'odd')]\n",
      "odd transitions: [('0', 'odd'), ('1', 'even')]\n",
      "File containing inputs and start state:C:\\Users\\shubh\\Desktop\\input.txt\n",
      "['even', ('1', 'odd'), ('0', 'odd'), ('1', 'even'), ('1', 'odd'), ('0', 'odd'), ('1', 'even')]\n",
      "[('1', 'odd'), ('0', 'odd'), ('1', 'even'), ('1', 'odd'), ('0', 'odd')]\n",
      "Start state = even\n",
      "Input = 1; New State = odd\n",
      "Input = 0; New State = odd\n",
      "Input = 1; New State = even\n",
      "Input = 1; New State = odd\n",
      "Input = 0; New State = odd\n",
      "Input = 1; New State = even\n",
      "Stop state: even\n",
      "\n",
      "['even', ('1', 'odd'), ('0', 'odd'), ('1', 'even'), ('1', 'odd'), ('0', 'odd'), ('x', 'Illegal input')]\n",
      "[('1', 'odd'), ('0', 'odd'), ('1', 'even'), ('1', 'odd'), ('0', 'odd')]\n",
      "Start state = even\n",
      "Input = 1; New State = odd\n",
      "Input = 0; New State = odd\n",
      "Input = 1; New State = even\n",
      "Input = 1; New State = odd\n",
      "Input = 0; New State = odd\n",
      "Input = x; New State = Illegal state terminating or whatever\n",
      "Stop state: None\n",
      "\n",
      "['odd', ('1', 'even'), ('0', 'even'), ('1', 'odd'), ('1', 'even'), ('0', 'even'), ('1', 'odd')]\n",
      "[('1', 'even'), ('0', 'even'), ('1', 'odd'), ('1', 'even'), ('0', 'even')]\n",
      "Start state = odd\n",
      "Input = 1; New State = even\n",
      "Input = 0; New State = even\n",
      "Input = 1; New State = odd\n",
      "Input = 1; New State = even\n",
      "Input = 0; New State = even\n",
      "Input = 1; New State = odd\n",
      "Stop state: odd\n",
      "\n"
     ]
    }
   ],
   "source": [
    "if __name__=='__main__':\n",
    "    fa_file = input('Enter the FA file:')\n",
    "    faDict = read_fa(open(fa_file))\n",
    "    print(faDict)\n",
    "    print(fa_as_str(faDict))\n",
    "    input_ = input('File containing inputs and start state:')\n",
    "    for line in open(input_):\n",
    "        if(line.rstrip('\\n')):\n",
    "            print(\n",
    "        process(faDict,line.rstrip('\\n').split(';')[0],line.rstrip('\\n').split(';')[1::1]))"
   ]
  },
  {
   "cell_type": "code",
   "execution_count": null,
   "metadata": {
    "collapsed": true
   },
   "outputs": [],
   "source": []
  }
 ],
 "metadata": {
  "kernelspec": {
   "display_name": "Python (data_science)",
   "language": "python",
   "name": "data_science"
  },
  "language_info": {
   "codemirror_mode": {
    "name": "ipython",
    "version": 3
   },
   "file_extension": ".py",
   "mimetype": "text/x-python",
   "name": "python",
   "nbconvert_exporter": "python",
   "pygments_lexer": "ipython3",
   "version": "3.6.2"
  }
 },
 "nbformat": 4,
 "nbformat_minor": 2
}
