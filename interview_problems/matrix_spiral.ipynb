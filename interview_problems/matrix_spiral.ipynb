{
 "cells": [
  {
   "cell_type": "code",
   "execution_count": 35,
   "metadata": {},
   "outputs": [],
   "source": [
    "matrix = [[1,2,3,4,5],\n",
    "          [6,7,8,9,10],\n",
    "          [11,12,13,14,15]]"
   ]
  },
  {
   "cell_type": "code",
   "execution_count": 66,
   "metadata": {
    "collapsed": true
   },
   "outputs": [],
   "source": [
    "matrix = [[1,2,3,4],\n",
    "          [5,6,7,8],\n",
    "          [9,10,11,12],\n",
    "          [13,14,15,16]]"
   ]
  },
  {
   "cell_type": "code",
   "execution_count": 71,
   "metadata": {},
   "outputs": [],
   "source": [
    "matrix = [[1,2,3,4],\n",
    "         [5,6,7,8],\n",
    "         [9,10,11,12],\n",
    "         [13,14,15,16],\n",
    "         [17,18,19,20]]"
   ]
  },
  {
   "cell_type": "code",
   "execution_count": 72,
   "metadata": {},
   "outputs": [],
   "source": [
    "counter = 0\n",
    "row = len(matrix)\n",
    "col= len(matrix[0])\n",
    "res=list()\n",
    "res.extend(matrix[0])\n",
    "m = 0\n",
    "n = len(matrix[0]) -1\n",
    "while(1):\n",
    "    counter+=1\n",
    "    if counter % 2 !=0:\n",
    "        row -=1\n",
    "        if row == 0:\n",
    "            break\n",
    "        for i in range(row):\n",
    "            m+=1\n",
    "            res.append(matrix[m][n])\n",
    "        col -=1\n",
    "        if col==0:\n",
    "            break\n",
    "        for i in range(col):\n",
    "            n-=1\n",
    "            res.append(matrix[m][n])\n",
    "        \n",
    "    else:\n",
    "        row-=1\n",
    "        if row ==0:\n",
    "            break\n",
    "        for i in range(row):\n",
    "            m-=1\n",
    "            res.append(matrix[m][n])\n",
    "        col-=1\n",
    "        if col==0:\n",
    "            break\n",
    "        for i in range(col):\n",
    "            n+=1\n",
    "            res.append(matrix[m][n])\n",
    "            \n",
    "        \n",
    "    "
   ]
  },
  {
   "cell_type": "code",
   "execution_count": 73,
   "metadata": {},
   "outputs": [
    {
     "data": {
      "text/plain": [
       "[1, 2, 3, 4, 8, 12, 16, 20, 19, 18, 17, 13, 9, 5, 6, 7, 11, 15, 14, 10]"
      ]
     },
     "execution_count": 73,
     "metadata": {},
     "output_type": "execute_result"
    }
   ],
   "source": [
    "res"
   ]
  },
  {
   "cell_type": "code",
   "execution_count": null,
   "metadata": {
    "collapsed": true
   },
   "outputs": [],
   "source": []
  }
 ],
 "metadata": {
  "kernelspec": {
   "display_name": "Python (data_science)",
   "language": "python",
   "name": "data_science"
  },
  "language_info": {
   "codemirror_mode": {
    "name": "ipython",
    "version": 3
   },
   "file_extension": ".py",
   "mimetype": "text/x-python",
   "name": "python",
   "nbconvert_exporter": "python",
   "pygments_lexer": "ipython3",
   "version": "3.6.2"
  }
 },
 "nbformat": 4,
 "nbformat_minor": 2
}
