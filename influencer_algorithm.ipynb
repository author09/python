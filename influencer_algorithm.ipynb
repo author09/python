{
 "cells": [
  {
   "cell_type": "code",
   "execution_count": 1,
   "metadata": {
    "collapsed": true
   },
   "outputs": [],
   "source": [
    "from math import ceil\n",
    "from collections import defaultdict"
   ]
  },
  {
   "cell_type": "code",
   "execution_count": 2,
   "metadata": {
    "collapsed": true
   },
   "outputs": [],
   "source": [
    "def all_influenced(initial_dict,influencer):\n",
    "    influenced_ = {x:(True if x in list(influencer) else False) for x in initial_dict}\n",
    "    influenced, old_inf = len(influencer), len(influencer)\n",
    "    while(True):\n",
    "        influenced_ = {x:(True if (influenced_[x] == False and (len(initial_dict[x])>0 and sum(influenced_[key] == True for key in initial_dict[x])>=ceil(len(initial_dict[x])/2))) else influenced_[x] )for x in influenced_ }\n",
    "        old_inf = influenced\n",
    "        influenced =sum(influenced_[key] == True for key in influenced_)\n",
    "        if influenced == old_inf :\n",
    "            break\n",
    "    percentage = (influenced/len(influenced_))*100\n",
    "    result =[x  for x in influenced_  if influenced_[x] ]\n",
    "    print('{0}:{1}'.format(percentage,result))"
   ]
  },
  {
   "cell_type": "code",
   "execution_count": 3,
   "metadata": {
    "collapsed": true
   },
   "outputs": [],
   "source": [
    "def find_influencers(initial_dict, trace):\n",
    "    inf_dict_ = {key : [(len(initial_dict[key]) - ceil((len(initial_dict[key]))/2)) if len(initial_dict[key])>0 else -1, len(initial_dict[key]), key] for key in initial_dict}\n",
    "    while(1):\n",
    "        removal_candidate = [tuple(inf_dict_[key]) for key in inf_dict_ if inf_dict_[key][0] >= 0]\n",
    "        if(len(removal_candidate) == 0):\n",
    "            break\n",
    "        inf_dict_.pop(min(removal_candidate)[2])\n",
    "        for f in initial_dict[min(removal_candidate)[2]]:\n",
    "            if(f in inf_dict_):\n",
    "                inf_dict_[f][0]-=1\n",
    "                inf_dict_[f][1]-=1\n",
    "    return(inf_dict_)"
   ]
  },
  {
   "cell_type": "code",
   "execution_count": 4,
   "metadata": {
    "collapsed": true
   },
   "outputs": [],
   "source": [
    "def graph_as_str(initial_dict):\n",
    "    return(''.join('\\n').join('{0} -> {1}'.format(key,sorted(initial_dict[key])) for key in sorted(initial_dict)))"
   ]
  },
  {
   "cell_type": "code",
   "execution_count": 5,
   "metadata": {
    "collapsed": true
   },
   "outputs": [],
   "source": [
    "def read_graph(file_name):\n",
    "    initial_dict = defaultdict(lambda:[])\n",
    "    for line in open(file_name):\n",
    "        if(line.rstrip('\\n')):\n",
    "            if(len(line.rstrip('\\n').split(';'))>1) :\n",
    "                initial_dict[line.rstrip('\\n').split(';')[0]].append(line.rstrip('\\n').split(';')[1])\n",
    "                initial_dict[line.rstrip('\\n').split(';')[1]].append(line.rstrip('\\n').split(';')[0])\n",
    "            else:\n",
    "                initial_dict[line.rstrip('\\n').split(';')[0]] = []\n",
    "    return(initial_dict)"
   ]
  },
  {
   "cell_type": "code",
   "execution_count": 7,
   "metadata": {},
   "outputs": [
    {
     "name": "stdout",
     "output_type": "stream",
     "text": [
      "Enter a file soring a friendship graph: C:\\Users\\shubh\\Desktop\\influencer_eg.txt\n",
      "Graph: node -> list of all friend nodes\n",
      "a -> ['b', 'c']\n",
      "b -> ['a', 'c']\n",
      "c -> ['a', 'b', 'd', 'g']\n",
      "d -> ['c', 'e', 'f']\n",
      "e -> ['d']\n",
      "f -> ['d']\n",
      "g -> ['c', 'h', 'j']\n",
      "h -> ['g']\n",
      "i -> ['j']\n",
      "j -> ['g', 'i']\n",
      "k -> []\n",
      "Trace the Algorithm[True]:False\n",
      "Superset of influencers:\n",
      "['d', 'g', 'k']\n",
      "Enter influencer set(or else quit):{'a','i}\n",
      "63.63636363636363:['a', 'b', 'c', 'g', 'h', 'j', 'i']\n",
      "Enter influencer set(or else quit):quit\n"
     ]
    }
   ],
   "source": [
    "if __name__ == '__main__':\n",
    "    file_name = input('Enter a file soring a friendship graph: ')\n",
    "    try:\n",
    "        initial_dict = read_graph(file_name)\n",
    "    except IOError:\n",
    "        print(\"File not available!!\")\n",
    "    graph_to_be_printed = graph_as_str(initial_dict)\n",
    "    print('Graph: node -> list of all friend nodes\\n{0}'.format(graph_to_be_printed))\n",
    "    trace = input('Trace the Algorithm[True]:')\n",
    "    print('Superset of influencers for the entire friendship graph:')\n",
    "    inf_dict = find_influencers(initial_dict, trace)\n",
    "    print(list(inf_dict.keys()))\n",
    "    while(True):\n",
    "        input_ = input('Enter influencer set(or else quit):')\n",
    "        if(input_ == 'quit'):\n",
    "            break\n",
    "        proceed = set(input_.strip('{').strip('}').replace('\\'','').split(','))\n",
    "        if not(proceed.issubset(set(initial_dict.keys()))):\n",
    "            print('bad key')\n",
    "            continue\n",
    "        all_influenced(initial_dict,proceed)"
   ]
  },
  {
   "cell_type": "code",
   "execution_count": null,
   "metadata": {
    "collapsed": true
   },
   "outputs": [],
   "source": []
  }
 ],
 "metadata": {
  "kernelspec": {
   "display_name": "Python (data_science)",
   "language": "python",
   "name": "data_science"
  },
  "language_info": {
   "codemirror_mode": {
    "name": "ipython",
    "version": 3
   },
   "file_extension": ".py",
   "mimetype": "text/x-python",
   "name": "python",
   "nbconvert_exporter": "python",
   "pygments_lexer": "ipython3",
   "version": "3.6.2"
  }
 },
 "nbformat": 4,
 "nbformat_minor": 2
}
